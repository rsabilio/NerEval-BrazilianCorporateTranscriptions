{
 "cells": [
  {
   "cell_type": "markdown",
   "metadata": {},
   "source": [
    "# Preparation of the train, val, and test datasets"
   ]
  },
  {
   "cell_type": "markdown",
   "metadata": {},
   "source": [
    "## Importando pacotes"
   ]
  },
  {
   "cell_type": "code",
   "execution_count": null,
   "metadata": {
    "executionInfo": {
     "elapsed": 1878,
     "status": "ok",
     "timestamp": 1696797413876,
     "user": {
      "displayName": "Ramon Simões Abilio",
      "userId": "03971614869265208899"
     },
     "user_tz": 180
    },
    "id": "UWxaJ6TmBF_k"
   },
   "outputs": [],
   "source": [
    "from sklearn.model_selection import train_test_split\n",
    "import pandas as pd\n"
   ]
  },
  {
   "cell_type": "markdown",
   "metadata": {
    "id": "mQxTk8HBAt-x"
   },
   "source": [
    "## Carregando dados"
   ]
  },
  {
   "cell_type": "code",
   "execution_count": null,
   "metadata": {
    "executionInfo": {
     "elapsed": 257,
     "status": "ok",
     "timestamp": 1696797659614,
     "user": {
      "displayName": "Ramon Simões Abilio",
      "userId": "03971614869265208899"
     },
     "user_tz": 180
    },
    "id": "dGXb3psnAd1T"
   },
   "outputs": [],
   "source": [
    "folder = './'"
   ]
  },
  {
   "cell_type": "code",
   "execution_count": null,
   "metadata": {
    "colab": {
     "base_uri": "https://localhost:8080/",
     "height": 423
    },
    "executionInfo": {
     "elapsed": 2341,
     "status": "ok",
     "timestamp": 1696797730082,
     "user": {
      "displayName": "Ramon Simões Abilio",
      "userId": "03971614869265208899"
     },
     "user_tz": 180
    },
    "id": "i4vB1M8ZBK_M",
    "outputId": "dbc3506f-8862-483e-c521-f6e8b4994605"
   },
   "outputs": [],
   "source": [
    "df = pd.read_json(path_or_buf=f\"{folder}/doccano.json\", lines=True)\n",
    "df"
   ]
  },
  {
   "cell_type": "markdown",
   "metadata": {},
   "source": [
    "## Preparando dados"
   ]
  },
  {
   "cell_type": "code",
   "execution_count": null,
   "metadata": {
    "colab": {
     "base_uri": "https://localhost:8080/",
     "height": 423
    },
    "executionInfo": {
     "elapsed": 3228,
     "status": "ok",
     "timestamp": 1696797756721,
     "user": {
      "displayName": "Ramon Simões Abilio",
      "userId": "03971614869265208899"
     },
     "user_tz": 180
    },
    "id": "XsxjQjvSMJPn",
    "outputId": "2747689f-86dc-4f40-c30e-6fad1a6846c8"
   },
   "outputs": [],
   "source": [
    "# Recuperando as entidades a partir dos spans\n",
    "sents = []\n",
    "for idx in range(0, len(df)):\n",
    "#for idx in range(0,5):\n",
    "    text = df.loc[idx, 'text']\n",
    "    labels = df.loc[idx, 'label']\n",
    "    ner = []\n",
    "    if len(labels) > 0:\n",
    "        for span in labels:\n",
    "            token = text[span[0]:span[1]]\n",
    "            label = span[2]\n",
    "            ner.append([span[0], span[1], token, label])\n",
    "\n",
    "        row = {'text': text, 'ner': ner}\n",
    "\n",
    "    else:\n",
    "        row = {'text': text, 'ner': '' }\n",
    "\n",
    "    sents.append(row)\n",
    "\n",
    "df_sents = pd.DataFrame.from_dict(sents)\n",
    "df_sents"
   ]
  },
  {
   "cell_type": "code",
   "execution_count": null,
   "metadata": {
    "colab": {
     "base_uri": "https://localhost:8080/",
     "height": 423
    },
    "executionInfo": {
     "elapsed": 317,
     "status": "ok",
     "timestamp": 1696797776352,
     "user": {
      "displayName": "Ramon Simões Abilio",
      "userId": "03971614869265208899"
     },
     "user_tz": 180
    },
    "id": "II7Cr03kUgAk",
    "outputId": "ff2e5e8f-5219-4e8e-e15a-a4c277dfb19d"
   },
   "outputs": [],
   "source": [
    "df_sents_anot = df_sents[ df_sents['ner'] != '' ]\n",
    "df_sents_anot = df_sents_anot.reset_index(drop=True)\n",
    "df_sents_anot"
   ]
  },
  {
   "cell_type": "code",
   "execution_count": null,
   "metadata": {
    "colab": {
     "base_uri": "https://localhost:8080/",
     "height": 423
    },
    "executionInfo": {
     "elapsed": 336,
     "status": "ok",
     "timestamp": 1696797807529,
     "user": {
      "displayName": "Ramon Simões Abilio",
      "userId": "03971614869265208899"
     },
     "user_tz": 180
    },
    "id": "69Sb34RSFjp6",
    "outputId": "fc3820ff-ee80-47b2-c94b-c226583bbc96"
   },
   "outputs": [],
   "source": [
    "# Verificando sentenças sem rótulos\n",
    "df_sents_sem_entidade = df_sents[ df_sents['ner'] == '' ]\n",
    "df_sents_sem_entidade = df_sents_sem_entidade.reset_index(drop=True)\n",
    "df_sents_sem_entidade\n"
   ]
  },
  {
   "cell_type": "code",
   "execution_count": null,
   "metadata": {
    "executionInfo": {
     "elapsed": 389,
     "status": "ok",
     "timestamp": 1696797834453,
     "user": {
      "displayName": "Ramon Simões Abilio",
      "userId": "03971614869265208899"
     },
     "user_tz": 180
    },
    "id": "8dDU_piOU_ye"
   },
   "outputs": [],
   "source": [
    "df_sents_sem_entidade.to_csv(f\"{folder}/sents_sem_anotacao.csv\", index=False, sep=';')"
   ]
  },
  {
   "cell_type": "code",
   "execution_count": null,
   "metadata": {
    "executionInfo": {
     "elapsed": 310,
     "status": "ok",
     "timestamp": 1696797839263,
     "user": {
      "displayName": "Ramon Simões Abilio",
      "userId": "03971614869265208899"
     },
     "user_tz": 180
    },
    "id": "PUNN_ATtVh34"
   },
   "outputs": [],
   "source": [
    "# Separa e conta a quantidade de cada label\n",
    "def count_labels(df):\n",
    "    labels = []\n",
    "    for idx in range(0, len(df)):\n",
    "    #for idx in range(20,50):\n",
    "        ner = df.loc[idx, 'ner']\n",
    "        if len(ner) > 0:\n",
    "            for item in ner:\n",
    "                label = item[3]\n",
    "                labels.append(label)\n",
    "                #print(f\"{idx} - {item[0]} - {label}\")\n",
    "\n",
    "    df_counts = pd.DataFrame()\n",
    "    df_counts['label'] = labels\n",
    "    return df_counts.value_counts()\n"
   ]
  },
  {
   "cell_type": "code",
   "execution_count": null,
   "metadata": {
    "colab": {
     "base_uri": "https://localhost:8080/"
    },
    "executionInfo": {
     "elapsed": 1541,
     "status": "ok",
     "timestamp": 1696797854116,
     "user": {
      "displayName": "Ramon Simões Abilio",
      "userId": "03971614869265208899"
     },
     "user_tz": 180
    },
    "id": "GnSrGC_WWIsZ",
    "outputId": "025cfece-66d5-43e3-96c8-1863481ea606"
   },
   "outputs": [],
   "source": [
    "count_labels(df_sents_anot)"
   ]
  },
  {
   "cell_type": "markdown",
   "metadata": {},
   "source": [
    "## Criando train, val, e test datasets"
   ]
  },
  {
   "cell_type": "code",
   "execution_count": null,
   "metadata": {
    "executionInfo": {
     "elapsed": 409,
     "status": "ok",
     "timestamp": 1696797907155,
     "user": {
      "displayName": "Ramon Simões Abilio",
      "userId": "03971614869265208899"
     },
     "user_tz": 180
    },
    "id": "Q4_mGUXODW-8"
   },
   "outputs": [],
   "source": [
    "train, test = train_test_split(df_sents_anot, test_size=0.1, random_state=42)\n",
    "train, val = train_test_split(train, test_size=0.2, random_state=42)\n",
    "\n",
    "# tem que resetar o index, pois a função de cálculo dos labels espera os indices começando em zero\n",
    "train = train.reset_index(drop=True)\n",
    "val   = val.reset_index(drop=True)\n",
    "test  = test.reset_index(drop=True)\n"
   ]
  },
  {
   "cell_type": "code",
   "execution_count": null,
   "metadata": {
    "colab": {
     "base_uri": "https://localhost:8080/"
    },
    "executionInfo": {
     "elapsed": 10,
     "status": "ok",
     "timestamp": 1696798474678,
     "user": {
      "displayName": "Ramon Simões Abilio",
      "userId": "03971614869265208899"
     },
     "user_tz": 180
    },
    "id": "tjUNv1NnEauY",
    "outputId": "8eee5813-4499-4e71-dbea-74b7401a445a"
   },
   "outputs": [],
   "source": [
    "len(train), len(val), len(test)"
   ]
  },
  {
   "cell_type": "code",
   "execution_count": null,
   "metadata": {
    "colab": {
     "base_uri": "https://localhost:8080/",
     "height": 802
    },
    "executionInfo": {
     "elapsed": 1289,
     "status": "ok",
     "timestamp": 1696797931028,
     "user": {
      "displayName": "Ramon Simões Abilio",
      "userId": "03971614869265208899"
     },
     "user_tz": 180
    },
    "id": "pSD7j3r-WOtz",
    "outputId": "8130ce25-7694-4046-af2b-64521e31eb86"
   },
   "outputs": [],
   "source": [
    "train_counts = count_labels(train)\n",
    "val_counts   = count_labels(val)\n",
    "test_counts  = count_labels(test)\n",
    "\n",
    "df_counts = pd.concat([train_counts, val_counts, test_counts], axis=1)\n",
    "df_counts.columns = ['train', 'val', 'test']\n",
    "df_counts['total'] = df_counts['train'] + df_counts['val'] + df_counts['test']\n",
    "df_counts"
   ]
  },
  {
   "cell_type": "code",
   "execution_count": null,
   "metadata": {
    "executionInfo": {
     "elapsed": 306,
     "status": "ok",
     "timestamp": 1696800835074,
     "user": {
      "displayName": "Ramon Simões Abilio",
      "userId": "03971614869265208899"
     },
     "user_tz": 180
    },
    "id": "4rzahpFlNZeT"
   },
   "outputs": [],
   "source": [
    "df_counts.to_csv(f\"{folder}/counts.csv\", index=False, sep=';')"
   ]
  },
  {
   "cell_type": "code",
   "execution_count": null,
   "metadata": {
    "executionInfo": {
     "elapsed": 979,
     "status": "ok",
     "timestamp": 1696797967364,
     "user": {
      "displayName": "Ramon Simões Abilio",
      "userId": "03971614869265208899"
     },
     "user_tz": 180
    },
    "id": "kKPI8MHDHDuB"
   },
   "outputs": [],
   "source": [
    "train.to_csv(f\"{folder}/train.csv\", index=False, sep=';')\n",
    "val.to_csv(f\"{folder}/val.csv\", index=False, sep=';')\n",
    "test.to_csv(f\"{folder}/test.csv\", index=False, sep=';')"
   ]
  }
 ],
 "metadata": {
  "colab": {
   "authorship_tag": "ABX9TyNvvRBFLLNv5CLu7G097G5F",
   "mount_file_id": "1cPeXK1lmQw2q8prJIaJQOTWXHPp0187f",
   "provenance": []
  },
  "kernelspec": {
   "display_name": "Python 3 (ipykernel)",
   "language": "python",
   "name": "python3"
  },
  "language_info": {
   "codemirror_mode": {
    "name": "ipython",
    "version": 3
   },
   "file_extension": ".py",
   "mimetype": "text/x-python",
   "name": "python",
   "nbconvert_exporter": "python",
   "pygments_lexer": "ipython3",
   "version": "3.10.12"
  }
 },
 "nbformat": 4,
 "nbformat_minor": 4
}
