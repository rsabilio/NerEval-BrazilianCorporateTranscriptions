{
 "cells": [
  {
   "cell_type": "markdown",
   "metadata": {},
   "source": [
    "# Named Entities annotation using weak supervision"
   ]
  },
  {
   "cell_type": "markdown",
   "metadata": {},
   "source": [
    "## Instalando bibliotecas"
   ]
  },
  {
   "cell_type": "code",
   "execution_count": null,
   "metadata": {
    "colab": {
     "base_uri": "https://localhost:8080/"
    },
    "executionInfo": {
     "elapsed": 18467,
     "status": "ok",
     "timestamp": 1696641286608,
     "user": {
      "displayName": "Ramon Simões Abilio",
      "userId": "03971614869265208899"
     },
     "user_tz": 180
    },
    "id": "1q5fCZ85ATqt",
    "outputId": "8b411a28-0024-49ec-8b12-65e1f075a013"
   },
   "outputs": [],
   "source": [
    "!pip install --quiet -U spacy skweak"
   ]
  },
  {
   "cell_type": "code",
   "execution_count": null,
   "metadata": {
    "colab": {
     "base_uri": "https://localhost:8080/"
    },
    "executionInfo": {
     "elapsed": 49426,
     "status": "ok",
     "timestamp": 1696641336030,
     "user": {
      "displayName": "Ramon Simões Abilio",
      "userId": "03971614869265208899"
     },
     "user_tz": 180
    },
    "id": "vJvobWhGATj9",
    "outputId": "e76da3d1-722d-4c86-a22e-6e2f55c34248"
   },
   "outputs": [],
   "source": [
    "!python -m spacy download 'pt_core_news_lg'"
   ]
  },
  {
   "cell_type": "code",
   "execution_count": null,
   "metadata": {
    "id": "_EVg1cqpABTA"
   },
   "outputs": [],
   "source": [
    "import pandas as pd\n",
    "import os\n",
    "import spacy\n",
    "import re\n",
    "import skweak\n",
    "from skweak import heuristics, gazetteers, aggregation, utils, base"
   ]
  },
  {
   "cell_type": "markdown",
   "metadata": {
    "id": "5qnWO_Gl5DSw"
   },
   "source": [
    "## Carregando Dados"
   ]
  },
  {
   "cell_type": "code",
   "execution_count": null,
   "metadata": {
    "id": "8p-JeZg6bhyP"
   },
   "outputs": [],
   "source": [
    "folder = './'\n",
    "folder_processados = f\"{folder}/dados_processados\"\n",
    "\n",
    "if not os.path.exists(folder_processados):\n",
    "    os.mkdir(folder_processados)"
   ]
  },
  {
   "cell_type": "code",
   "execution_count": null,
   "metadata": {
    "colab": {
     "base_uri": "https://localhost:8080/",
     "height": 206
    },
    "executionInfo": {
     "elapsed": 1754,
     "status": "ok",
     "timestamp": 1696641451645,
     "user": {
      "displayName": "Ramon Simões Abilio",
      "userId": "03971614869265208899"
     },
     "user_tz": 180
    },
    "id": "ZiYQXg4kbgQ4",
    "outputId": "f7ed40ff-ff2b-49d1-a1ae-d688274b3bd0"
   },
   "outputs": [],
   "source": [
    "df = pd.read_csv(folder+'/dataset.csv', sep=';')\n",
    "df.head()"
   ]
  },
  {
   "cell_type": "code",
   "execution_count": null,
   "metadata": {
    "colab": {
     "base_uri": "https://localhost:8080/"
    },
    "executionInfo": {
     "elapsed": 345,
     "status": "ok",
     "timestamp": 1696641463221,
     "user": {
      "displayName": "Ramon Simões Abilio",
      "userId": "03971614869265208899"
     },
     "user_tz": 180
    },
    "id": "-vnZTJxCfg26",
    "outputId": "05fd7225-30f4-4d8c-c44e-3b8842e5d2d5"
   },
   "outputs": [],
   "source": [
    "dataset = [ s.replace('\\n','').strip() for s in df['sentenca'].values ]\n",
    "print(len(dataset))\n",
    "dataset[:20]"
   ]
  },
  {
   "cell_type": "markdown",
   "metadata": {
    "id": "0IZVplXlmO28"
   },
   "source": [
    "## Skweak\n",
    "\n",
    "* https://aclanthology.org/2021.acl-demo.40.pdf\n",
    "\n",
    "* https://github.com/NorskRegnesentral/skweak\n",
    "\n",
    "* https://github.com/NorskRegnesentral/skweak/wiki/Step-1:-Labelling-functions\n",
    "\n",
    "* https://analyticsindiamag.com/meet-skweak-a-python-toolkit-for-applying-weak-supervision-to-nlp-tasks/\n",
    "\n",
    "* https://colab.research.google.com/drive/1X90PP-sGbD5_TfXxigWI5_IQqWuuXrTE?usp=sharing#scrollTo=tZkFWMLytO9i"
   ]
  },
  {
   "cell_type": "code",
   "execution_count": null,
   "metadata": {
    "id": "8lcJ8gz1LY8a"
   },
   "outputs": [],
   "source": [
    "spacy_model = \"pt_core_news_lg\"\n",
    "nlp = spacy.load(spacy_model)"
   ]
  },
  {
   "cell_type": "code",
   "execution_count": null,
   "metadata": {
    "colab": {
     "base_uri": "https://localhost:8080/"
    },
    "executionInfo": {
     "elapsed": 2635,
     "status": "ok",
     "timestamp": 1696641490707,
     "user": {
      "displayName": "Ramon Simões Abilio",
      "userId": "03971614869265208899"
     },
     "user_tz": 180
    },
    "id": "frOYwK-CK8mt",
    "outputId": "ceecad7f-6876-4105-ca01-3fb673256df3"
   },
   "outputs": [],
   "source": [
    "# carregando rótulos e expressões a serem rotuladas\n",
    "rotulos = gazetteers.extract_json_data(folder+\"/gazetteers.json\", spacy_model=spacy_model)"
   ]
  },
  {
   "cell_type": "markdown",
   "metadata": {
    "id": "On6XRMLz3ta_"
   },
   "source": [
    "## Funções"
   ]
  },
  {
   "cell_type": "markdown",
   "metadata": {
    "id": "rusk3WBF4AU-",
    "jp-MarkdownHeadingCollapsed": true
   },
   "source": [
    "### Money"
   ]
  },
  {
   "cell_type": "code",
   "execution_count": null,
   "metadata": {
    "id": "JqKksQZYX0Hp"
   },
   "outputs": [],
   "source": [
    "# Identifica um valor monetário\n",
    "# Acrescentada a unidade: milhão/bilhão... Ver: https://github.com/NorskRegnesentral/skweak/wiki/Step-1:-Labelling-functions#heuristicsspaneditorannotator\n",
    "def money_detector(doc):\n",
    "\n",
    "  for tok in doc[1:]:\n",
    "    if (tok.text in [\"R$\",\"US$\"]) and tok.nbor(+1).like_num:\n",
    "        yield tok.i, tok.i+2, 'MONEY'\n",
    "\n",
    "def transform_money_span(span):\n",
    "    last_token = span[-1]\n",
    "    if last_token .n_rights and last_token.nbor(1).text in {\"mil\", \"milhão\", \"milhões\", \"bilhão\", \"bilhões\", \"trilhão\", \"trilhões\"}:\n",
    "        return span.doc[span.start:span.end+1]\n",
    "\n",
    "    return span\n",
    "\n"
   ]
  },
  {
   "cell_type": "code",
   "execution_count": null,
   "metadata": {
    "colab": {
     "base_uri": "https://localhost:8080/"
    },
    "executionInfo": {
     "elapsed": 9,
     "status": "ok",
     "timestamp": 1696641503292,
     "user": {
      "displayName": "Ramon Simões Abilio",
      "userId": "03971614869265208899"
     },
     "user_tz": 180
    },
    "id": "Z-Upfu1dsLHe",
    "outputId": "de537f64-70d9-45b3-ab34-70766a0589dd"
   },
   "outputs": [],
   "source": [
    "# testes\n",
    "\n",
    "#money_detector  = heuristics.FunctionAnnotator('money_number', money_detector)\n",
    "#money_detector2 = heuristics.SpanEditorAnnotator(\"money\", \"money_number\", transform_money_span)\n",
    "\n",
    "money_detector  = heuristics.FunctionAnnotator('money_number', money_detector)\n",
    "money = heuristics.SpanEditorAnnotator(\"money\", \"money_number\", transform_money_span)\n",
    "\n",
    "#p = \"O lucro foi de R$ 13,8 bilhões ou quase US$3 bilhões \"\n",
    "p = \"Paraná Banco - Teleconferência primeiro trimestre de 2009 – 08/05/2009 Operadora: Bom dia.\"\n",
    "print(p)\n",
    "\n",
    "doc = nlp(p)\n",
    "doc = money_detector(doc)\n",
    "\n",
    "for span in doc.spans['money_number']:\n",
    "    print(f\"{span.text} - {span.label_}\")\n",
    "\n",
    "\n",
    "utils.display_entities(doc, 'money_number')\n",
    "\n",
    "doc = money(doc)\n",
    "\n",
    "for span in doc.spans['money']:\n",
    "    print(f\"{span.text} - {span.label_}\")\n",
    "\n",
    "\n",
    "utils.display_entities(doc, 'money')\n",
    "\n",
    "print(doc.to_json())"
   ]
  },
  {
   "cell_type": "markdown",
   "metadata": {
    "id": "shnXZz4a4Kjw",
    "jp-MarkdownHeadingCollapsed": true
   },
   "source": [
    "### Percentual"
   ]
  },
  {
   "cell_type": "code",
   "execution_count": null,
   "metadata": {
    "id": "QZlmIKTH4LC5"
   },
   "outputs": [],
   "source": [
    "def percent_detector(doc):\n",
    "\n",
    "  for tok in doc[1:]:\n",
    "    if tok.i < len(doc)-1 and tok.like_num and (tok.nbor(1).text in [\"%\", \"bp\",\"pp\"]):\n",
    "        yield tok.i, tok.i+2, 'PERCENTUAL'\n"
   ]
  },
  {
   "cell_type": "code",
   "execution_count": null,
   "metadata": {
    "colab": {
     "base_uri": "https://localhost:8080/"
    },
    "executionInfo": {
     "elapsed": 6,
     "status": "ok",
     "timestamp": 1696641503292,
     "user": {
      "displayName": "Ramon Simões Abilio",
      "userId": "03971614869265208899"
     },
     "user_tz": 180
    },
    "id": "MY5ZorSB23mX",
    "outputId": "57765d47-f001-4ffd-c409-d769bd6e714d"
   },
   "outputs": [],
   "source": [
    "lf1 = heuristics.FunctionAnnotator('percent', percent_detector)\n",
    "\n",
    "p = \"O lucro foi de 13,8% maior ou quase 0,3 bp. equivalentes a 3 pp.\"\n",
    "print(p)\n",
    "\n",
    "doc = nlp(p)\n",
    "doc = lf1(doc)\n",
    "\n",
    "utils.display_entities(doc, 'percent')"
   ]
  },
  {
   "cell_type": "markdown",
   "metadata": {
    "id": "14Ey-4EZoRR_",
    "jp-MarkdownHeadingCollapsed": true
   },
   "source": [
    "### Regex"
   ]
  },
  {
   "cell_type": "code",
   "execution_count": null,
   "metadata": {
    "colab": {
     "base_uri": "https://localhost:8080/"
    },
    "executionInfo": {
     "elapsed": 277,
     "status": "ok",
     "timestamp": 1696641503563,
     "user": {
      "displayName": "Ramon Simões Abilio",
      "userId": "03971614869265208899"
     },
     "user_tz": 180
    },
    "id": "OMKwJ6WfoP-C",
    "outputId": "8af860c0-75ab-4bf7-bfc8-b03f27b7e964"
   },
   "outputs": [],
   "source": [
    "p = \"Obrigado por participarem da nossa 2T22 teleconferência 3T dos resultados do 2T2022\"\n",
    "\n",
    "print(p)\n",
    "doc = nlp(p)\n",
    "\n",
    "quarter = heuristics.TokenConstraintAnnotator('quarter', lambda tok: re.match('\\dT(\\d{2}|\\d{4})', tok.text), 'QUARTER')\n",
    "\n",
    "doc = quarter(doc)\n",
    "#print(doc.to_json())\n",
    "for s in doc.spans['quarter']:\n",
    "    print(s.text, s.label_)\n"
   ]
  },
  {
   "cell_type": "markdown",
   "metadata": {
    "id": "iciSWRiT3pMD",
    "jp-MarkdownHeadingCollapsed": true
   },
   "source": [
    "## Completo"
   ]
  },
  {
   "cell_type": "code",
   "execution_count": null,
   "metadata": {
    "colab": {
     "base_uri": "https://localhost:8080/"
    },
    "executionInfo": {
     "elapsed": 1416915,
     "status": "ok",
     "timestamp": 1696642922108,
     "user": {
      "displayName": "Ramon Simões Abilio",
      "userId": "03971614869265208899"
     },
     "user_tz": 180
    },
    "id": "RCZ02JMXUsa2",
    "outputId": "008d8768-625a-4389-e2cd-eb9090f6a1cd"
   },
   "outputs": [],
   "source": [
    "# salvando os documentos processados pelo Spacy\n",
    "docs = [ nlp(s) for s in dataset ]\n",
    "skweak.utils.docbin_writer(docs, f\"{folder_processados}/file.spacy\")"
   ]
  },
  {
   "cell_type": "code",
   "execution_count": null,
   "metadata": {
    "id": "Kv6sMximPVEy"
   },
   "outputs": [],
   "source": [
    "# carregando os documentos processados pelo Spacy\n",
    "docs = list(skweak.utils.docbin_reader(f\"{folder_processados}/file.spacy\", spacy_model_name=spacy_model))"
   ]
  },
  {
   "cell_type": "code",
   "execution_count": null,
   "metadata": {
    "id": "29XCFjEYAA0w"
   },
   "outputs": [],
   "source": [
    "# Identifica um valor monetário\n",
    "# Acrescentada a unidade: milhão/bilhão... Ver: https://github.com/NorskRegnesentral/skweak/wiki/Step-1:-Labelling-functions#heuristicsspaneditorannotator\n",
    "def money_detector(doc):\n",
    "\n",
    "  for tok in doc[1:]:\n",
    "    if (tok.text in [\"R$\",\"US$\"]) and tok.nbor(+1).like_num:\n",
    "        yield tok.i, tok.i+2, 'MONEY'\n",
    "\n",
    "def transform_money_span(span):\n",
    "    last_token = span[-1]\n",
    "    if last_token .n_rights and last_token.nbor(1).text in {\"mil\", \"milhão\", \"milhões\", \"bilhão\", \"bilhões\", \"trilhão\", \"trilhões\"}:\n",
    "        return span.doc[span.start:span.end+1]\n",
    "\n",
    "    return span\n",
    "\n",
    "\n",
    "\n",
    "\n",
    "money_detector  = heuristics.FunctionAnnotator('money_number', money_detector)\n",
    "money = heuristics.SpanEditorAnnotator(\"money\", \"money_number\", transform_money_span)\n",
    "\n",
    "\n",
    "percent = heuristics.FunctionAnnotator('percent', percent_detector)\n",
    "\n",
    "quarter = heuristics.TokenConstraintAnnotator('quarter', lambda tok: re.match('\\dT(\\d{2}|\\d{4})', tok.text), 'QUARTER')\n",
    "\n",
    "semester = heuristics.TokenConstraintAnnotator('semester', lambda tok: re.match('\\dS(\\d{2}|\\d{4})', tok.text), 'SEMESTER')\n",
    "\n",
    "year = heuristics.TokenConstraintAnnotator('year', lambda tok: re.match('\\d{4}$', tok.text), 'YEAR')\n",
    "\n",
    "gaz = gazetteers.GazetteerAnnotator('rotulos', rotulos, case_sensitive=False)\n",
    "\n",
    "\n",
    "combined = base.CombinedAnnotator()\n",
    "combined.add_annotator(money_detector)\n",
    "combined.add_annotator(money)\n",
    "combined.add_annotator(percent)\n",
    "combined.add_annotator(quarter)\n",
    "combined.add_annotator(semester)\n",
    "combined.add_annotator(year)\n",
    "combined.add_annotator(gaz)\n",
    "\n",
    "docs_anot = list(combined.pipe(docs))\n"
   ]
  },
  {
   "cell_type": "code",
   "execution_count": null,
   "metadata": {
    "colab": {
     "base_uri": "https://localhost:8080/",
     "height": 1000
    },
    "executionInfo": {
     "elapsed": 22,
     "status": "ok",
     "timestamp": 1696643420819,
     "user": {
      "displayName": "Ramon Simões Abilio",
      "userId": "03971614869265208899"
     },
     "user_tz": 180
    },
    "id": "HLoIqENwWy5G",
    "outputId": "5f8663f7-95ac-4dac-c809-9a7fdfb40380"
   },
   "outputs": [],
   "source": [
    "for d in docs_anot[:20]:\n",
    "    print()\n",
    "    #print(d)\n",
    "    #print(d.spans)\n",
    "    utils.display_entities(d, layer='*')"
   ]
  },
  {
   "cell_type": "code",
   "execution_count": null,
   "metadata": {
    "colab": {
     "base_uri": "https://localhost:8080/"
    },
    "executionInfo": {
     "elapsed": 7,
     "status": "ok",
     "timestamp": 1696643420819,
     "user": {
      "displayName": "Ramon Simões Abilio",
      "userId": "03971614869265208899"
     },
     "user_tz": 180
    },
    "id": "Sd9XrJySALuJ",
    "outputId": "b113f8e4-fc25-4bdf-ff0f-3a7b97a88254"
   },
   "outputs": [],
   "source": [
    "# reunindo os labels das heuristicas aos labels do gazetteers\n",
    "labels = ['MONEY', 'PERCENTUAL', 'QUARTER', 'SEMESTER', 'YEAR'] + list(rotulos.keys())\n",
    "labels = list(set(labels)) # retirar os labels duplicados\n",
    "print(len(labels))\n",
    "print(labels)"
   ]
  },
  {
   "cell_type": "code",
   "execution_count": null,
   "metadata": {
    "id": "p9ld8PhiiIbl"
   },
   "outputs": [],
   "source": [
    "# retorna uma lista dos rótulos no formato BIO\n",
    "label_names = {0: 'O'}\n",
    "i = 1\n",
    "for l in labels:\n",
    "    label_names[i] = f\"B-{l}\"\n",
    "    label_names[i+1] = f\"I-{l}\"\n",
    "    i += 2\n"
   ]
  },
  {
   "cell_type": "code",
   "execution_count": null,
   "metadata": {
    "colab": {
     "base_uri": "https://localhost:8080/",
     "height": 1000
    },
    "executionInfo": {
     "elapsed": 1334548,
     "status": "ok",
     "timestamp": 1696644755362,
     "user": {
      "displayName": "Ramon Simões Abilio",
      "userId": "03971614869265208899"
     },
     "user_tz": 180
    },
    "id": "nm8WCr2kCmhf",
    "outputId": "c6d2ab4a-444c-4e21-d564-df4a2174d299"
   },
   "outputs": [],
   "source": [
    "# agregando rotulos\n",
    "hmm  = aggregation.HMM('hmm', labels)\n",
    "docs_agg = hmm.fit_and_aggregate(docs_anot)\n",
    "\n",
    "for i, doc in enumerate(docs_agg[:20]):\n",
    "  print(f\"{i}\")\n",
    "  utils.display_entities(doc, 'hmm')"
   ]
  },
  {
   "cell_type": "code",
   "execution_count": null,
   "metadata": {
    "colab": {
     "base_uri": "https://localhost:8080/"
    },
    "executionInfo": {
     "elapsed": 15,
     "status": "ok",
     "timestamp": 1696644755363,
     "user": {
      "displayName": "Ramon Simões Abilio",
      "userId": "03971614869265208899"
     },
     "user_tz": 180
    },
    "id": "LCp-cqY47Day",
    "outputId": "966d8766-d6f9-49b5-85f8-9882341143d0"
   },
   "outputs": [],
   "source": [
    "for doc in docs_agg[:20]:\n",
    "    print(doc.text)\n",
    "    print(doc.spans[\"hmm\"])"
   ]
  },
  {
   "cell_type": "code",
   "execution_count": null,
   "metadata": {
    "id": "Hbcwa6P1-nYo"
   },
   "outputs": [],
   "source": [
    "import json\n",
    "\n",
    "ls = [ d.to_json() for d in docs_agg ]\n",
    "with open(folder_processados+\"/dataset_annot.json\", 'w', encoding='utf8') as json_file:\n",
    "    json.dump(ls, json_file, indent=3, ensure_ascii=False)"
   ]
  },
  {
   "cell_type": "markdown",
   "metadata": {
    "id": "fb_bY72u0Ct2",
    "jp-MarkdownHeadingCollapsed": true
   },
   "source": [
    "## Analisando dados puros e anotados\n",
    "\n",
    "* Quantidade de sentenças\n",
    "    * Quantidade de Sentenças anotadas\n",
    "    * Quantidade de Sentenças não anotadas\n",
    "* Quantidade de anotações por Label\n",
    "* Características das sentenças não anotadas\n"
   ]
  },
  {
   "cell_type": "code",
   "execution_count": null,
   "metadata": {
    "id": "zr1I-jmx0EWx"
   },
   "outputs": [],
   "source": [
    "# separando sentenças anotadas das não anotadas\n",
    "# as sentenças anotadas serão repetidas para cada label encontrado nela\n",
    "sents       = []\n",
    "sents_annot = []\n",
    "for d in docs_agg:\n",
    "\n",
    "    if len(list(d.spans[\"hmm\"])) > 0:\n",
    "        for span in d.spans[\"hmm\"]:\n",
    "            row = {'text': d.text, 'token': span.text ,'label': span.label_}\n",
    "            sents_annot.append(row)\n",
    "    else:\n",
    "        row = {'text': d.text}\n",
    "        sents.append(row)\n",
    "\n",
    "df_sents       = pd.DataFrame.from_dict(sents)\n",
    "df_sents_annot = pd.DataFrame.from_dict(sents_annot)"
   ]
  },
  {
   "cell_type": "code",
   "execution_count": null,
   "metadata": {
    "colab": {
     "base_uri": "https://localhost:8080/",
     "height": 423
    },
    "executionInfo": {
     "elapsed": 43,
     "status": "ok",
     "timestamp": 1696644841470,
     "user": {
      "displayName": "Ramon Simões Abilio",
      "userId": "03971614869265208899"
     },
     "user_tz": 180
    },
    "id": "byj0VeSA5dJb",
    "outputId": "5cc806f5-ff07-4a18-c233-a65fc3fb0007"
   },
   "outputs": [],
   "source": [
    "df_sents_annot"
   ]
  },
  {
   "cell_type": "code",
   "execution_count": null,
   "metadata": {
    "colab": {
     "base_uri": "https://localhost:8080/"
    },
    "executionInfo": {
     "elapsed": 417,
     "status": "ok",
     "timestamp": 1696644841850,
     "user": {
      "displayName": "Ramon Simões Abilio",
      "userId": "03971614869265208899"
     },
     "user_tz": 180
    },
    "id": "Rv-caigR0Hui",
    "outputId": "6819a5c5-b2de-456c-d162-8ac4f9340a7f"
   },
   "outputs": [],
   "source": [
    "print(f\"Quantidade de sentenças: {len(docs)}\")\n",
    "print(f\"Quantidade de sentenças não anotadas: {len(df_sents)}\")\n",
    "\n",
    "qtd_sent_anot = len(df_sents_annot['text'].unique())\n",
    "print(f\"Quantidade de sentenças anotadas: {qtd_sent_anot}\")\n",
    "\n",
    "qtd_anotacoes = len(df_sents_annot['label'])\n",
    "print(f\"Quantidade de anotações: {qtd_anotacoes}\")\n",
    "\n",
    "print(f\"Média de anotações por sentença: {(qtd_anotacoes/qtd_sent_anot):.2f}\")\n",
    "\n",
    "print(f\"Quantidade de anotações por label: \")\n",
    "df_sents_annot['label'].value_counts()"
   ]
  },
  {
   "cell_type": "code",
   "execution_count": null,
   "metadata": {
    "id": "qXoYW1dG0Oib"
   },
   "outputs": [],
   "source": [
    "df_sents.to_csv(folder_processados+'/sentencas-nao-anotadas.csv', sep=';')\n",
    "df_sents_annot.to_csv(folder_processados+'/sentencas-anotadas.csv', sep=';')"
   ]
  },
  {
   "cell_type": "markdown",
   "metadata": {
    "id": "lrb9Tinnava6"
   },
   "source": [
    "## Salvando dados no formato do Doccano"
   ]
  },
  {
   "cell_type": "code",
   "execution_count": null,
   "metadata": {
    "colab": {
     "base_uri": "https://localhost:8080/"
    },
    "executionInfo": {
     "elapsed": 3732,
     "status": "ok",
     "timestamp": 1696644846983,
     "user": {
      "displayName": "Ramon Simões Abilio",
      "userId": "03971614869265208899"
     },
     "user_tz": 180
    },
    "id": "AOknJEdPg5QS",
    "outputId": "c4f5654f-0bb6-4d99-af68-b9e346e097dc"
   },
   "outputs": [],
   "source": [
    "# Adaptado de: https://stackoverflow.com/questions/57902256/how-to-export-document-with-entities-from-spacy-for-use-in-doccano\n",
    "djson = list()\n",
    "for doc in docs_agg:\n",
    "    labels = list()\n",
    "    for e in doc.spans['hmm']:\n",
    "        labels.append([e.start_char, e.end_char, e.label_])\n",
    "    djson.append({'text': doc.text, \"label\": labels})\n",
    "\n",
    "djson"
   ]
  },
  {
   "cell_type": "code",
   "execution_count": null,
   "metadata": {
    "colab": {
     "base_uri": "https://localhost:8080/"
    },
    "executionInfo": {
     "elapsed": 1521,
     "status": "ok",
     "timestamp": 1696644848490,
     "user": {
      "displayName": "Ramon Simões Abilio",
      "userId": "03971614869265208899"
     },
     "user_tz": 180
    },
    "id": "toPZ-vRyZVuO",
    "outputId": "79107455-ce62-4179-8dc8-391a2f446fb0"
   },
   "outputs": [],
   "source": [
    "import json\n",
    "\n",
    "open(folder_processados+'/doccano.json', 'w', encoding='utf8').write(\"\\n\".join([json.dumps(e) for e in djson]))"
   ]
  },
  {
   "cell_type": "markdown",
   "metadata": {
    "id": "zSE0PmIgvyas"
   },
   "source": [
    "## Carregando dados do Doccano"
   ]
  },
  {
   "cell_type": "code",
   "execution_count": null,
   "metadata": {
    "id": "XeoSoGfVw_Sh"
   },
   "outputs": [],
   "source": [
    "import pandas as pd\n"
   ]
  },
  {
   "cell_type": "code",
   "execution_count": null,
   "metadata": {
    "colab": {
     "base_uri": "https://localhost:8080/",
     "height": 423
    },
    "executionInfo": {
     "elapsed": 8619,
     "status": "ok",
     "timestamp": 1696468421317,
     "user": {
      "displayName": "Ramon Simões Abilio",
      "userId": "03971614869265208899"
     },
     "user_tz": 180
    },
    "id": "GF2ebELaw_j0",
    "outputId": "fd1e810c-fcb3-4465-e841-983f264c59ea"
   },
   "outputs": [],
   "source": [
    "jsonObj = pd.read_json(path_or_buf=f\"{folder_processados}/doccano-20231004.jsonl\", lines=True)\n",
    "jsonObj"
   ]
  },
  {
   "cell_type": "code",
   "execution_count": null,
   "metadata": {
    "colab": {
     "base_uri": "https://localhost:8080/",
     "height": 841
    },
    "executionInfo": {
     "elapsed": 3163,
     "status": "ok",
     "timestamp": 1696469398028,
     "user": {
      "displayName": "Ramon Simões Abilio",
      "userId": "03971614869265208899"
     },
     "user_tz": 180
    },
    "id": "mb-7VvaX6P4X",
    "outputId": "8e886a3e-7dcf-473f-d19b-a104b56cceca"
   },
   "outputs": [],
   "source": [
    "sents_anot = []\n",
    "sents_anot_aux = []\n",
    "sents_sem_anot = []\n",
    "qtd_sent_anot = 0\n",
    "qtd_sent_sem_anot = 0\n",
    "for idx in range(0, len(jsonObj)):\n",
    "#for idx in range(0,5):\n",
    "    text = jsonObj.loc[idx, 'text']\n",
    "    labels = jsonObj.loc[idx, 'label']\n",
    "    if len(labels) > 0:\n",
    "        for span in labels:\n",
    "            token = text[span[0]:span[1]]\n",
    "            label = span[2]\n",
    "            row = {'text': text, 'token': token ,'label': label}\n",
    "            sents_anot.append(row)\n",
    "        qtd_sent_anot += 1\n",
    "        sents_anot_aux.append(text)\n",
    "    else:\n",
    "        row = {'text': text, 'token': '' ,'label': ''}\n",
    "        sents_sem_anot.append(row)\n",
    "        qtd_sent_sem_anot += 1\n",
    "\n",
    "df_sents_anot = pd.DataFrame.from_dict(sents_anot)\n",
    "df_sents_anot"
   ]
  },
  {
   "cell_type": "code",
   "execution_count": null,
   "metadata": {
    "colab": {
     "base_uri": "https://localhost:8080/",
     "height": 423
    },
    "executionInfo": {
     "elapsed": 451,
     "status": "ok",
     "timestamp": 1696468470442,
     "user": {
      "displayName": "Ramon Simões Abilio",
      "userId": "03971614869265208899"
     },
     "user_tz": 180
    },
    "id": "Z1vhQOFAYILP",
    "outputId": "96a85baa-126d-47bf-e788-10e4c03db2d8"
   },
   "outputs": [],
   "source": [
    "df_sents_sem_anot = pd.DataFrame.from_dict(sents_sem_anot)\n",
    "df_sents_sem_anot"
   ]
  },
  {
   "cell_type": "code",
   "execution_count": null,
   "metadata": {
    "colab": {
     "base_uri": "https://localhost:8080/"
    },
    "executionInfo": {
     "elapsed": 288,
     "status": "ok",
     "timestamp": 1696468481094,
     "user": {
      "displayName": "Ramon Simões Abilio",
      "userId": "03971614869265208899"
     },
     "user_tz": 180
    },
    "id": "rnBwU2k2Xgac",
    "outputId": "9981cba2-2e14-4bec-c7ce-5424382a068f"
   },
   "outputs": [],
   "source": [
    "qtd_sent_anot, qtd_sent_sem_anot"
   ]
  },
  {
   "cell_type": "code",
   "execution_count": null,
   "metadata": {
    "colab": {
     "base_uri": "https://localhost:8080/"
    },
    "executionInfo": {
     "elapsed": 303,
     "status": "ok",
     "timestamp": 1696468511274,
     "user": {
      "displayName": "Ramon Simões Abilio",
      "userId": "03971614869265208899"
     },
     "user_tz": 180
    },
    "id": "adjKXbQxYVO5",
    "outputId": "7bf799af-44f9-4810-de64-94551651e711"
   },
   "outputs": [],
   "source": [
    "len(df_sents_anot), len(df_sents_sem_anot)"
   ]
  },
  {
   "cell_type": "code",
   "execution_count": null,
   "metadata": {
    "id": "-1KAcrP_dUcN"
   },
   "outputs": [],
   "source": [
    "sents_unique = df_sents_anot['text'].unique()"
   ]
  },
  {
   "cell_type": "code",
   "execution_count": null,
   "metadata": {
    "colab": {
     "base_uri": "https://localhost:8080/"
    },
    "executionInfo": {
     "elapsed": 529,
     "status": "ok",
     "timestamp": 1696469537631,
     "user": {
      "displayName": "Ramon Simões Abilio",
      "userId": "03971614869265208899"
     },
     "user_tz": 180
    },
    "id": "RYZVeqnUdnRP",
    "outputId": "c6ea6aed-1e6a-47d7-90da-70b24e316911"
   },
   "outputs": [],
   "source": [
    "len(sents_unique), len(sents_anot_aux)"
   ]
  },
  {
   "cell_type": "code",
   "execution_count": null,
   "metadata": {
    "colab": {
     "base_uri": "https://localhost:8080/",
     "height": 691
    },
    "executionInfo": {
     "elapsed": 1549,
     "status": "ok",
     "timestamp": 1696470271050,
     "user": {
      "displayName": "Ramon Simões Abilio",
      "userId": "03971614869265208899"
     },
     "user_tz": 180
    },
    "id": "XdExRM4XerMc",
    "outputId": "a5308d85-1cdc-431c-d796-7ebb162e19c4"
   },
   "outputs": [],
   "source": [
    "df_aux = pd.DataFrame()\n",
    "df_aux['text'] = sents_anot_aux\n",
    "#df_aux.sort_values(by='text')\n",
    "pd.concat(g for _, g in df_aux.groupby(\"text\") if len(g) > 1)"
   ]
  },
  {
   "cell_type": "code",
   "execution_count": null,
   "metadata": {
    "colab": {
     "base_uri": "https://localhost:8080/"
    },
    "executionInfo": {
     "elapsed": 312,
     "status": "ok",
     "timestamp": 1696469527481,
     "user": {
      "displayName": "Ramon Simões Abilio",
      "userId": "03971614869265208899"
     },
     "user_tz": 180
    },
    "id": "HyXvwsFSv1Ep",
    "outputId": "1985514e-130a-43d4-e8a8-ebc728cd56df"
   },
   "outputs": [],
   "source": [
    "print(f\"Quantidade de sentenças original: {len(jsonObj)}\")\n",
    "\n",
    "print(f\"Quantidade de sentenças não anotadas: {len(df_sents_sem_anot['text'])}\")\n",
    "\n",
    "qtd_sent_anot = len(df_sents_anot['text'].unique())\n",
    "print(f\"Quantidade de sentenças anotadas: {qtd_sent_anot}\")\n",
    "\n",
    "qtd_anotacoes = len(df_sents_anot['label'])\n",
    "print(f\"Quantidade de anotações: {qtd_anotacoes}\")\n",
    "\n",
    "print(f\"Média de anotações por sentença: {(qtd_anotacoes/qtd_sent_anot):.2f}\")\n",
    "\n",
    "print(f\"Quantidade de anotações por label: \")\n",
    "df_sents_anot['label'].value_counts()"
   ]
  },
  {
   "cell_type": "code",
   "execution_count": null,
   "metadata": {
    "id": "Rf30efq6-kMH"
   },
   "outputs": [],
   "source": [
    "df_sents_anot.to_csv(folder_processados+'/sentencas-anotadas-doccano.csv', sep=';', index=False)"
   ]
  }
 ],
 "metadata": {
  "colab": {
   "provenance": []
  },
  "kernelspec": {
   "display_name": "Python 3 (ipykernel)",
   "language": "python",
   "name": "python3"
  },
  "language_info": {
   "codemirror_mode": {
    "name": "ipython",
    "version": 3
   },
   "file_extension": ".py",
   "mimetype": "text/x-python",
   "name": "python",
   "nbconvert_exporter": "python",
   "pygments_lexer": "ipython3",
   "version": "3.10.12"
  }
 },
 "nbformat": 4,
 "nbformat_minor": 4
}
